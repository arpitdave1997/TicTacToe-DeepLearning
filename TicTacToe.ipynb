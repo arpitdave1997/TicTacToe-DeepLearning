{
 "cells": [
  {
   "cell_type": "code",
   "execution_count": 27,
   "metadata": {},
   "outputs": [],
   "source": [
    "## Practice - 30/10//2019"
   ]
  },
  {
   "cell_type": "code",
   "execution_count": 1,
   "metadata": {},
   "outputs": [
    {
     "name": "stderr",
     "output_type": "stream",
     "text": [
      "Using TensorFlow backend.\n"
     ]
    }
   ],
   "source": [
    "# Importing required packages\n",
    "\n",
    "import pandas as pd\n",
    "import numpy as np\n",
    "import keras\n",
    "from keras.models import Sequential\n",
    "from keras.layers import Dense"
   ]
  },
  {
   "cell_type": "code",
   "execution_count": 18,
   "metadata": {
    "scrolled": true
   },
   "outputs": [
    {
     "data": {
      "text/html": [
       "<div>\n",
       "<style scoped>\n",
       "    .dataframe tbody tr th:only-of-type {\n",
       "        vertical-align: middle;\n",
       "    }\n",
       "\n",
       "    .dataframe tbody tr th {\n",
       "        vertical-align: top;\n",
       "    }\n",
       "\n",
       "    .dataframe thead th {\n",
       "        text-align: right;\n",
       "    }\n",
       "</style>\n",
       "<table border=\"1\" class=\"dataframe\">\n",
       "  <thead>\n",
       "    <tr style=\"text-align: right;\">\n",
       "      <th></th>\n",
       "      <th>TL</th>\n",
       "      <th>TM</th>\n",
       "      <th>TR</th>\n",
       "      <th>ML</th>\n",
       "      <th>MM</th>\n",
       "      <th>MR</th>\n",
       "      <th>BL</th>\n",
       "      <th>BM</th>\n",
       "      <th>BR</th>\n",
       "      <th>class</th>\n",
       "    </tr>\n",
       "  </thead>\n",
       "  <tbody>\n",
       "    <tr>\n",
       "      <th>953</th>\n",
       "      <td>o</td>\n",
       "      <td>x</td>\n",
       "      <td>x</td>\n",
       "      <td>x</td>\n",
       "      <td>o</td>\n",
       "      <td>o</td>\n",
       "      <td>o</td>\n",
       "      <td>x</td>\n",
       "      <td>x</td>\n",
       "      <td>False</td>\n",
       "    </tr>\n",
       "    <tr>\n",
       "      <th>954</th>\n",
       "      <td>o</td>\n",
       "      <td>x</td>\n",
       "      <td>o</td>\n",
       "      <td>x</td>\n",
       "      <td>x</td>\n",
       "      <td>o</td>\n",
       "      <td>x</td>\n",
       "      <td>o</td>\n",
       "      <td>x</td>\n",
       "      <td>False</td>\n",
       "    </tr>\n",
       "    <tr>\n",
       "      <th>955</th>\n",
       "      <td>o</td>\n",
       "      <td>x</td>\n",
       "      <td>o</td>\n",
       "      <td>x</td>\n",
       "      <td>o</td>\n",
       "      <td>x</td>\n",
       "      <td>x</td>\n",
       "      <td>o</td>\n",
       "      <td>x</td>\n",
       "      <td>False</td>\n",
       "    </tr>\n",
       "    <tr>\n",
       "      <th>956</th>\n",
       "      <td>o</td>\n",
       "      <td>x</td>\n",
       "      <td>o</td>\n",
       "      <td>o</td>\n",
       "      <td>x</td>\n",
       "      <td>x</td>\n",
       "      <td>x</td>\n",
       "      <td>o</td>\n",
       "      <td>x</td>\n",
       "      <td>False</td>\n",
       "    </tr>\n",
       "    <tr>\n",
       "      <th>957</th>\n",
       "      <td>o</td>\n",
       "      <td>o</td>\n",
       "      <td>x</td>\n",
       "      <td>x</td>\n",
       "      <td>x</td>\n",
       "      <td>o</td>\n",
       "      <td>o</td>\n",
       "      <td>x</td>\n",
       "      <td>x</td>\n",
       "      <td>False</td>\n",
       "    </tr>\n",
       "  </tbody>\n",
       "</table>\n",
       "</div>"
      ],
      "text/plain": [
       "    TL TM TR ML MM MR BL BM BR  class\n",
       "953  o  x  x  x  o  o  o  x  x  False\n",
       "954  o  x  o  x  x  o  x  o  x  False\n",
       "955  o  x  o  x  o  x  x  o  x  False\n",
       "956  o  x  o  o  x  x  x  o  x  False\n",
       "957  o  o  x  x  x  o  o  x  x  False"
      ]
     },
     "execution_count": 18,
     "metadata": {},
     "output_type": "execute_result"
    }
   ],
   "source": [
    "dataset = pd.read_csv('tic-tac-toe_csv.csv')\n",
    "dataset.tail()"
   ]
  },
  {
   "cell_type": "code",
   "execution_count": 3,
   "metadata": {},
   "outputs": [],
   "source": [
    "dataset['class'] = dataset['class'].astype(int)"
   ]
  },
  {
   "cell_type": "code",
   "execution_count": 4,
   "metadata": {},
   "outputs": [],
   "source": [
    "columns = dataset.columns\n",
    "\n",
    "predictors = dataset[columns[columns != 'class']]\n",
    "result = dataset['class']"
   ]
  },
  {
   "cell_type": "code",
   "execution_count": 5,
   "metadata": {},
   "outputs": [
    {
     "data": {
      "text/html": [
       "<div>\n",
       "<style scoped>\n",
       "    .dataframe tbody tr th:only-of-type {\n",
       "        vertical-align: middle;\n",
       "    }\n",
       "\n",
       "    .dataframe tbody tr th {\n",
       "        vertical-align: top;\n",
       "    }\n",
       "\n",
       "    .dataframe thead th {\n",
       "        text-align: right;\n",
       "    }\n",
       "</style>\n",
       "<table border=\"1\" class=\"dataframe\">\n",
       "  <thead>\n",
       "    <tr style=\"text-align: right;\">\n",
       "      <th></th>\n",
       "      <th>TL</th>\n",
       "      <th>TM</th>\n",
       "      <th>TR</th>\n",
       "      <th>ML</th>\n",
       "      <th>MM</th>\n",
       "      <th>MR</th>\n",
       "      <th>BL</th>\n",
       "      <th>BM</th>\n",
       "      <th>BR</th>\n",
       "    </tr>\n",
       "  </thead>\n",
       "  <tbody>\n",
       "    <tr>\n",
       "      <th>0</th>\n",
       "      <td>1</td>\n",
       "      <td>1</td>\n",
       "      <td>1</td>\n",
       "      <td>1</td>\n",
       "      <td>0</td>\n",
       "      <td>0</td>\n",
       "      <td>1</td>\n",
       "      <td>0</td>\n",
       "      <td>0</td>\n",
       "    </tr>\n",
       "    <tr>\n",
       "      <th>1</th>\n",
       "      <td>1</td>\n",
       "      <td>1</td>\n",
       "      <td>1</td>\n",
       "      <td>1</td>\n",
       "      <td>0</td>\n",
       "      <td>0</td>\n",
       "      <td>0</td>\n",
       "      <td>1</td>\n",
       "      <td>0</td>\n",
       "    </tr>\n",
       "    <tr>\n",
       "      <th>2</th>\n",
       "      <td>1</td>\n",
       "      <td>1</td>\n",
       "      <td>1</td>\n",
       "      <td>1</td>\n",
       "      <td>0</td>\n",
       "      <td>0</td>\n",
       "      <td>0</td>\n",
       "      <td>0</td>\n",
       "      <td>1</td>\n",
       "    </tr>\n",
       "    <tr>\n",
       "      <th>3</th>\n",
       "      <td>1</td>\n",
       "      <td>1</td>\n",
       "      <td>1</td>\n",
       "      <td>1</td>\n",
       "      <td>0</td>\n",
       "      <td>0</td>\n",
       "      <td>0</td>\n",
       "      <td>2</td>\n",
       "      <td>2</td>\n",
       "    </tr>\n",
       "    <tr>\n",
       "      <th>4</th>\n",
       "      <td>1</td>\n",
       "      <td>1</td>\n",
       "      <td>1</td>\n",
       "      <td>1</td>\n",
       "      <td>0</td>\n",
       "      <td>0</td>\n",
       "      <td>2</td>\n",
       "      <td>0</td>\n",
       "      <td>2</td>\n",
       "    </tr>\n",
       "  </tbody>\n",
       "</table>\n",
       "</div>"
      ],
      "text/plain": [
       "  TL TM TR ML MM MR BL BM BR\n",
       "0  1  1  1  1  0  0  1  0  0\n",
       "1  1  1  1  1  0  0  0  1  0\n",
       "2  1  1  1  1  0  0  0  0  1\n",
       "3  1  1  1  1  0  0  0  2  2\n",
       "4  1  1  1  1  0  0  2  0  2"
      ]
     },
     "execution_count": 5,
     "metadata": {},
     "output_type": "execute_result"
    }
   ],
   "source": [
    "for i in range(predictors.shape[1]):\n",
    "    for j in range(predictors.shape[0]):\n",
    "        if(predictors.iloc[j,i] == 'x'):\n",
    "            predictors.iat[j,i] = 1\n",
    "        elif(predictors.iloc[j,i] == 'o'):\n",
    "            predictors.iat[j,i] = 0\n",
    "        elif(predictors.iloc[j,i] == 'b'):\n",
    "            predictors.iat[j,i] = 2\n",
    "            \n",
    "predictors.head()"
   ]
  },
  {
   "cell_type": "code",
   "execution_count": 6,
   "metadata": {},
   "outputs": [],
   "source": [
    "columns_count = predictors.shape[1]"
   ]
  },
  {
   "cell_type": "code",
   "execution_count": 7,
   "metadata": {},
   "outputs": [],
   "source": [
    "## Neural Network Model : \n",
    "def Training_Model():\n",
    "    model = Sequential()\n",
    "    model.add(Dense(50,activation='relu',input_shape=(columns_count,)))\n",
    "    model.add(Dense(50,activation='relu'))\n",
    "    model.add(Dense(1))\n",
    "    \n",
    "    model.compile(optimizer='adam', loss='mean_squared_error', metrics=['accuracy'])\n",
    "    return model"
   ]
  },
  {
   "cell_type": "code",
   "execution_count": 8,
   "metadata": {},
   "outputs": [
    {
     "name": "stdout",
     "output_type": "stream",
     "text": [
      "WARNING:tensorflow:From /home/arpitdave/.local/lib/python3.5/site-packages/tensorflow/python/framework/op_def_library.py:263: colocate_with (from tensorflow.python.framework.ops) is deprecated and will be removed in a future version.\n",
      "Instructions for updating:\n",
      "Colocations handled automatically by placer.\n",
      "WARNING:tensorflow:From /home/arpitdave/.local/lib/python3.5/site-packages/tensorflow/python/ops/math_ops.py:3066: to_int32 (from tensorflow.python.ops.math_ops) is deprecated and will be removed in a future version.\n",
      "Instructions for updating:\n",
      "Use tf.cast instead.\n",
      "Train on 670 samples, validate on 288 samples\n",
      "Epoch 1/100\n",
      "670/670 [==============================] - 1s 2ms/step - loss: 0.3598 - acc: 0.5672 - val_loss: 1.2355 - val_acc: 0.0069\n",
      "Epoch 2/100\n",
      "670/670 [==============================] - 0s 47us/step - loss: 0.1155 - acc: 0.8821 - val_loss: 0.6582 - val_acc: 0.0417\n",
      "Epoch 3/100\n",
      "670/670 [==============================] - 0s 57us/step - loss: 0.0762 - acc: 0.9328 - val_loss: 0.7775 - val_acc: 0.0000e+00\n",
      "Epoch 4/100\n",
      "670/670 [==============================] - 0s 58us/step - loss: 0.0690 - acc: 0.9328 - val_loss: 0.7701 - val_acc: 0.0000e+00\n",
      "Epoch 5/100\n",
      "670/670 [==============================] - 0s 57us/step - loss: 0.0651 - acc: 0.9343 - val_loss: 0.7518 - val_acc: 0.0000e+00\n",
      "Epoch 6/100\n",
      "670/670 [==============================] - 0s 71us/step - loss: 0.0630 - acc: 0.9343 - val_loss: 0.7630 - val_acc: 0.0000e+00\n",
      "Epoch 7/100\n",
      "670/670 [==============================] - 0s 54us/step - loss: 0.0609 - acc: 0.9343 - val_loss: 0.7625 - val_acc: 0.0000e+00\n",
      "Epoch 8/100\n",
      "670/670 [==============================] - 0s 62us/step - loss: 0.0592 - acc: 0.9343 - val_loss: 0.7881 - val_acc: 0.0000e+00\n",
      "Epoch 9/100\n",
      "670/670 [==============================] - 0s 58us/step - loss: 0.0577 - acc: 0.9343 - val_loss: 0.7379 - val_acc: 0.0000e+00\n",
      "Epoch 10/100\n",
      "670/670 [==============================] - 0s 59us/step - loss: 0.0557 - acc: 0.9343 - val_loss: 0.7541 - val_acc: 0.0000e+00\n",
      "Epoch 11/100\n",
      "670/670 [==============================] - 0s 61us/step - loss: 0.0545 - acc: 0.9343 - val_loss: 0.7220 - val_acc: 0.0000e+00\n",
      "Epoch 12/100\n",
      "670/670 [==============================] - 0s 62us/step - loss: 0.0531 - acc: 0.9358 - val_loss: 0.7588 - val_acc: 0.0000e+00\n",
      "Epoch 13/100\n",
      "670/670 [==============================] - 0s 52us/step - loss: 0.0508 - acc: 0.9358 - val_loss: 0.7582 - val_acc: 0.0000e+00\n",
      "Epoch 14/100\n",
      "670/670 [==============================] - 0s 68us/step - loss: 0.0495 - acc: 0.9373 - val_loss: 0.7562 - val_acc: 0.0000e+00\n",
      "Epoch 15/100\n",
      "670/670 [==============================] - 0s 56us/step - loss: 0.0479 - acc: 0.9373 - val_loss: 0.7818 - val_acc: 0.0000e+00\n",
      "Epoch 16/100\n",
      "670/670 [==============================] - 0s 62us/step - loss: 0.0463 - acc: 0.9373 - val_loss: 0.7953 - val_acc: 0.0000e+00\n",
      "Epoch 17/100\n",
      "670/670 [==============================] - 0s 62us/step - loss: 0.0447 - acc: 0.9373 - val_loss: 0.8133 - val_acc: 0.0000e+00\n",
      "Epoch 18/100\n",
      "670/670 [==============================] - 0s 47us/step - loss: 0.0432 - acc: 0.9403 - val_loss: 0.8178 - val_acc: 0.0000e+00\n",
      "Epoch 19/100\n",
      "670/670 [==============================] - 0s 56us/step - loss: 0.0419 - acc: 0.9433 - val_loss: 0.8136 - val_acc: 0.0035\n",
      "Epoch 20/100\n",
      "670/670 [==============================] - 0s 56us/step - loss: 0.0401 - acc: 0.9507 - val_loss: 0.8187 - val_acc: 0.0000e+00\n",
      "Epoch 21/100\n",
      "670/670 [==============================] - 0s 56us/step - loss: 0.0389 - acc: 0.9537 - val_loss: 0.7538 - val_acc: 0.0104\n",
      "Epoch 22/100\n",
      "670/670 [==============================] - 0s 51us/step - loss: 0.0375 - acc: 0.9582 - val_loss: 0.8182 - val_acc: 0.0104\n",
      "Epoch 23/100\n",
      "670/670 [==============================] - 0s 56us/step - loss: 0.0358 - acc: 0.9567 - val_loss: 0.8442 - val_acc: 0.0104\n",
      "Epoch 24/100\n",
      "670/670 [==============================] - 0s 54us/step - loss: 0.0348 - acc: 0.9612 - val_loss: 0.8514 - val_acc: 0.0104\n",
      "Epoch 25/100\n",
      "670/670 [==============================] - 0s 59us/step - loss: 0.0340 - acc: 0.9597 - val_loss: 0.8413 - val_acc: 0.0139\n",
      "Epoch 26/100\n",
      "670/670 [==============================] - 0s 55us/step - loss: 0.0327 - acc: 0.9657 - val_loss: 0.7715 - val_acc: 0.0417\n",
      "Epoch 27/100\n",
      "670/670 [==============================] - 0s 59us/step - loss: 0.0320 - acc: 0.9657 - val_loss: 0.8625 - val_acc: 0.0278\n",
      "Epoch 28/100\n",
      "670/670 [==============================] - 0s 56us/step - loss: 0.0303 - acc: 0.9627 - val_loss: 0.8575 - val_acc: 0.0382\n",
      "Epoch 29/100\n",
      "670/670 [==============================] - 0s 69us/step - loss: 0.0291 - acc: 0.9642 - val_loss: 0.8272 - val_acc: 0.0521\n",
      "Epoch 30/100\n",
      "670/670 [==============================] - 0s 59us/step - loss: 0.0286 - acc: 0.9687 - val_loss: 0.7839 - val_acc: 0.0799\n",
      "Epoch 31/100\n",
      "670/670 [==============================] - 0s 52us/step - loss: 0.0282 - acc: 0.9672 - val_loss: 0.8316 - val_acc: 0.0590\n",
      "Epoch 32/100\n",
      "670/670 [==============================] - 0s 61us/step - loss: 0.0272 - acc: 0.9672 - val_loss: 0.8054 - val_acc: 0.0799\n",
      "Epoch 33/100\n",
      "670/670 [==============================] - 0s 67us/step - loss: 0.0264 - acc: 0.9687 - val_loss: 0.8325 - val_acc: 0.0868\n",
      "Epoch 34/100\n",
      "670/670 [==============================] - 0s 60us/step - loss: 0.0251 - acc: 0.9701 - val_loss: 0.8911 - val_acc: 0.0660\n",
      "Epoch 35/100\n",
      "670/670 [==============================] - 0s 49us/step - loss: 0.0244 - acc: 0.9701 - val_loss: 0.8574 - val_acc: 0.0764\n",
      "Epoch 36/100\n",
      "670/670 [==============================] - 0s 51us/step - loss: 0.0236 - acc: 0.9731 - val_loss: 0.8663 - val_acc: 0.0764\n",
      "Epoch 37/100\n",
      "670/670 [==============================] - 0s 49us/step - loss: 0.0228 - acc: 0.9746 - val_loss: 0.8791 - val_acc: 0.0764\n",
      "Epoch 38/100\n",
      "670/670 [==============================] - 0s 49us/step - loss: 0.0224 - acc: 0.9761 - val_loss: 0.7899 - val_acc: 0.1042\n",
      "Epoch 39/100\n",
      "670/670 [==============================] - 0s 52us/step - loss: 0.0215 - acc: 0.9746 - val_loss: 0.7949 - val_acc: 0.1042\n",
      "Epoch 40/100\n",
      "670/670 [==============================] - 0s 47us/step - loss: 0.0213 - acc: 0.9821 - val_loss: 0.8424 - val_acc: 0.1042\n",
      "Epoch 41/100\n",
      "670/670 [==============================] - 0s 46us/step - loss: 0.0205 - acc: 0.9806 - val_loss: 0.8108 - val_acc: 0.1146\n",
      "Epoch 42/100\n",
      "670/670 [==============================] - 0s 48us/step - loss: 0.0197 - acc: 0.9821 - val_loss: 0.8034 - val_acc: 0.1250\n",
      "Epoch 43/100\n",
      "670/670 [==============================] - 0s 58us/step - loss: 0.0195 - acc: 0.9806 - val_loss: 0.8217 - val_acc: 0.1215\n",
      "Epoch 44/100\n",
      "670/670 [==============================] - 0s 66us/step - loss: 0.0189 - acc: 0.9836 - val_loss: 0.8231 - val_acc: 0.1250\n",
      "Epoch 45/100\n",
      "670/670 [==============================] - 0s 53us/step - loss: 0.0182 - acc: 0.9821 - val_loss: 0.8248 - val_acc: 0.1250\n",
      "Epoch 46/100\n",
      "670/670 [==============================] - 0s 55us/step - loss: 0.0179 - acc: 0.9851 - val_loss: 0.8320 - val_acc: 0.1319\n",
      "Epoch 47/100\n",
      "670/670 [==============================] - 0s 75us/step - loss: 0.0179 - acc: 0.9866 - val_loss: 0.7972 - val_acc: 0.1389\n",
      "Epoch 48/100\n",
      "670/670 [==============================] - 0s 64us/step - loss: 0.0171 - acc: 0.9851 - val_loss: 0.8307 - val_acc: 0.1250\n",
      "Epoch 49/100\n",
      "670/670 [==============================] - 0s 82us/step - loss: 0.0168 - acc: 0.9851 - val_loss: 0.8326 - val_acc: 0.1389\n",
      "Epoch 50/100\n",
      "670/670 [==============================] - 0s 73us/step - loss: 0.0161 - acc: 0.9866 - val_loss: 0.7933 - val_acc: 0.1458\n",
      "Epoch 51/100\n",
      "670/670 [==============================] - 0s 61us/step - loss: 0.0158 - acc: 0.9881 - val_loss: 0.7996 - val_acc: 0.1493\n",
      "Epoch 52/100\n",
      "670/670 [==============================] - 0s 53us/step - loss: 0.0157 - acc: 0.9881 - val_loss: 0.7886 - val_acc: 0.1632\n",
      "Epoch 53/100\n",
      "670/670 [==============================] - 0s 54us/step - loss: 0.0155 - acc: 0.9910 - val_loss: 0.8047 - val_acc: 0.1528\n",
      "Epoch 54/100\n",
      "670/670 [==============================] - 0s 44us/step - loss: 0.0148 - acc: 0.9910 - val_loss: 0.7676 - val_acc: 0.1632\n",
      "Epoch 55/100\n",
      "670/670 [==============================] - 0s 60us/step - loss: 0.0140 - acc: 0.9896 - val_loss: 0.8280 - val_acc: 0.1562\n",
      "Epoch 56/100\n",
      "670/670 [==============================] - 0s 55us/step - loss: 0.0154 - acc: 0.9910 - val_loss: 0.7458 - val_acc: 0.1701\n"
     ]
    },
    {
     "name": "stdout",
     "output_type": "stream",
     "text": [
      "Epoch 57/100\n",
      "670/670 [==============================] - 0s 55us/step - loss: 0.0141 - acc: 0.9910 - val_loss: 0.8376 - val_acc: 0.1632\n",
      "Epoch 58/100\n",
      "670/670 [==============================] - 0s 45us/step - loss: 0.0132 - acc: 0.9925 - val_loss: 0.7868 - val_acc: 0.1597\n",
      "Epoch 59/100\n",
      "670/670 [==============================] - 0s 45us/step - loss: 0.0128 - acc: 0.9925 - val_loss: 0.8099 - val_acc: 0.1667\n",
      "Epoch 60/100\n",
      "670/670 [==============================] - 0s 44us/step - loss: 0.0122 - acc: 0.9925 - val_loss: 0.8175 - val_acc: 0.1667\n",
      "Epoch 61/100\n",
      "670/670 [==============================] - 0s 41us/step - loss: 0.0121 - acc: 0.9955 - val_loss: 0.8260 - val_acc: 0.1597\n",
      "Epoch 62/100\n",
      "670/670 [==============================] - 0s 46us/step - loss: 0.0121 - acc: 0.9910 - val_loss: 0.7705 - val_acc: 0.1736\n",
      "Epoch 63/100\n",
      "670/670 [==============================] - 0s 51us/step - loss: 0.0113 - acc: 0.9955 - val_loss: 0.8017 - val_acc: 0.1736\n",
      "Epoch 64/100\n",
      "670/670 [==============================] - 0s 45us/step - loss: 0.0116 - acc: 0.9940 - val_loss: 0.7494 - val_acc: 0.1771\n",
      "Epoch 65/100\n",
      "670/670 [==============================] - 0s 44us/step - loss: 0.0113 - acc: 0.9940 - val_loss: 0.8014 - val_acc: 0.1771\n",
      "Epoch 66/100\n",
      "670/670 [==============================] - 0s 51us/step - loss: 0.0109 - acc: 0.9970 - val_loss: 0.7561 - val_acc: 0.1771\n",
      "Epoch 67/100\n",
      "670/670 [==============================] - 0s 46us/step - loss: 0.0105 - acc: 0.9970 - val_loss: 0.7571 - val_acc: 0.1806\n",
      "Epoch 68/100\n",
      "670/670 [==============================] - 0s 41us/step - loss: 0.0104 - acc: 0.9970 - val_loss: 0.8360 - val_acc: 0.1736\n",
      "Epoch 69/100\n",
      "670/670 [==============================] - 0s 45us/step - loss: 0.0105 - acc: 0.9940 - val_loss: 0.7760 - val_acc: 0.1771\n",
      "Epoch 70/100\n",
      "670/670 [==============================] - 0s 54us/step - loss: 0.0096 - acc: 0.9970 - val_loss: 0.8060 - val_acc: 0.1736\n",
      "Epoch 71/100\n",
      "670/670 [==============================] - 0s 58us/step - loss: 0.0097 - acc: 0.9970 - val_loss: 0.8294 - val_acc: 0.1771\n",
      "Epoch 72/100\n",
      "670/670 [==============================] - 0s 56us/step - loss: 0.0095 - acc: 0.9970 - val_loss: 0.7398 - val_acc: 0.1806\n",
      "Epoch 73/100\n",
      "670/670 [==============================] - 0s 51us/step - loss: 0.0091 - acc: 0.9970 - val_loss: 0.7815 - val_acc: 0.1806\n",
      "Epoch 74/100\n",
      "670/670 [==============================] - 0s 60us/step - loss: 0.0087 - acc: 0.9970 - val_loss: 0.7439 - val_acc: 0.1875\n",
      "Epoch 75/100\n",
      "670/670 [==============================] - 0s 51us/step - loss: 0.0088 - acc: 0.9970 - val_loss: 0.7655 - val_acc: 0.1875\n",
      "Epoch 76/100\n",
      "670/670 [==============================] - 0s 57us/step - loss: 0.0083 - acc: 0.9970 - val_loss: 0.7606 - val_acc: 0.1840\n",
      "Epoch 77/100\n",
      "670/670 [==============================] - 0s 55us/step - loss: 0.0082 - acc: 0.9970 - val_loss: 0.7963 - val_acc: 0.1771\n",
      "Epoch 78/100\n",
      "670/670 [==============================] - 0s 51us/step - loss: 0.0082 - acc: 0.9985 - val_loss: 0.7425 - val_acc: 0.1875\n",
      "Epoch 79/100\n",
      "670/670 [==============================] - 0s 55us/step - loss: 0.0080 - acc: 0.9985 - val_loss: 0.7819 - val_acc: 0.1840\n",
      "Epoch 80/100\n",
      "670/670 [==============================] - 0s 53us/step - loss: 0.0078 - acc: 1.0000 - val_loss: 0.8213 - val_acc: 0.1771\n",
      "Epoch 81/100\n",
      "670/670 [==============================] - 0s 52us/step - loss: 0.0077 - acc: 0.9985 - val_loss: 0.7654 - val_acc: 0.1944\n",
      "Epoch 82/100\n",
      "670/670 [==============================] - 0s 50us/step - loss: 0.0074 - acc: 0.9970 - val_loss: 0.7651 - val_acc: 0.1875\n",
      "Epoch 83/100\n",
      "670/670 [==============================] - 0s 50us/step - loss: 0.0073 - acc: 0.9985 - val_loss: 0.7452 - val_acc: 0.1840\n",
      "Epoch 84/100\n",
      "670/670 [==============================] - 0s 51us/step - loss: 0.0072 - acc: 1.0000 - val_loss: 0.8056 - val_acc: 0.1944\n",
      "Epoch 85/100\n",
      "670/670 [==============================] - 0s 47us/step - loss: 0.0072 - acc: 1.0000 - val_loss: 0.7368 - val_acc: 0.2257\n",
      "Epoch 86/100\n",
      "670/670 [==============================] - 0s 43us/step - loss: 0.0070 - acc: 0.9985 - val_loss: 0.7666 - val_acc: 0.2083\n",
      "Epoch 87/100\n",
      "670/670 [==============================] - 0s 61us/step - loss: 0.0066 - acc: 1.0000 - val_loss: 0.8183 - val_acc: 0.1736\n",
      "Epoch 88/100\n",
      "670/670 [==============================] - 0s 54us/step - loss: 0.0065 - acc: 0.9970 - val_loss: 0.7992 - val_acc: 0.2014\n",
      "Epoch 89/100\n",
      "670/670 [==============================] - 0s 52us/step - loss: 0.0061 - acc: 1.0000 - val_loss: 0.8171 - val_acc: 0.2049\n",
      "Epoch 90/100\n",
      "670/670 [==============================] - 0s 54us/step - loss: 0.0061 - acc: 1.0000 - val_loss: 0.7939 - val_acc: 0.2049\n",
      "Epoch 91/100\n",
      "670/670 [==============================] - 0s 61us/step - loss: 0.0061 - acc: 1.0000 - val_loss: 0.7491 - val_acc: 0.2326\n",
      "Epoch 92/100\n",
      "670/670 [==============================] - 0s 56us/step - loss: 0.0057 - acc: 1.0000 - val_loss: 0.7875 - val_acc: 0.1944\n",
      "Epoch 93/100\n",
      "670/670 [==============================] - 0s 56us/step - loss: 0.0058 - acc: 1.0000 - val_loss: 0.7930 - val_acc: 0.2083\n",
      "Epoch 94/100\n",
      "670/670 [==============================] - 0s 44us/step - loss: 0.0062 - acc: 1.0000 - val_loss: 0.8226 - val_acc: 0.1806\n",
      "Epoch 95/100\n",
      "670/670 [==============================] - 0s 53us/step - loss: 0.0063 - acc: 1.0000 - val_loss: 0.7856 - val_acc: 0.2014\n",
      "Epoch 96/100\n",
      "670/670 [==============================] - 0s 51us/step - loss: 0.0055 - acc: 1.0000 - val_loss: 0.7543 - val_acc: 0.2222\n",
      "Epoch 97/100\n",
      "670/670 [==============================] - 0s 45us/step - loss: 0.0052 - acc: 1.0000 - val_loss: 0.7497 - val_acc: 0.2292\n",
      "Epoch 98/100\n",
      "670/670 [==============================] - 0s 59us/step - loss: 0.0051 - acc: 1.0000 - val_loss: 0.7561 - val_acc: 0.2257\n",
      "Epoch 99/100\n",
      "670/670 [==============================] - 0s 57us/step - loss: 0.0049 - acc: 1.0000 - val_loss: 0.7784 - val_acc: 0.2257\n",
      "Epoch 100/100\n",
      "670/670 [==============================] - 0s 60us/step - loss: 0.0046 - acc: 1.0000 - val_loss: 0.7295 - val_acc: 0.2326\n"
     ]
    },
    {
     "data": {
      "text/plain": [
       "<keras.callbacks.History at 0x7f8a2906a630>"
      ]
     },
     "execution_count": 8,
     "metadata": {},
     "output_type": "execute_result"
    }
   ],
   "source": [
    "model = Training_Model()\n",
    "\n",
    "model.fit(predictors, result, validation_split=0.3, epochs=100, verbose=1)"
   ]
  },
  {
   "cell_type": "code",
   "execution_count": 19,
   "metadata": {},
   "outputs": [
    {
     "data": {
      "text/plain": [
       "(1, 9)"
      ]
     },
     "execution_count": 19,
     "metadata": {},
     "output_type": "execute_result"
    }
   ],
   "source": [
    "predict_input = np.array([[0,1,1,1,0,0,0,1,1]])\n",
    "\n",
    "predict_input.shape"
   ]
  },
  {
   "cell_type": "code",
   "execution_count": 20,
   "metadata": {},
   "outputs": [
    {
     "data": {
      "text/plain": [
       "(1, 9)"
      ]
     },
     "execution_count": 20,
     "metadata": {},
     "output_type": "execute_result"
    }
   ],
   "source": [
    "predictors.head(1).shape"
   ]
  },
  {
   "cell_type": "code",
   "execution_count": 26,
   "metadata": {},
   "outputs": [
    {
     "data": {
      "text/plain": [
       "array([[0.84477675]], dtype=float32)"
      ]
     },
     "execution_count": 26,
     "metadata": {},
     "output_type": "execute_result"
    }
   ],
   "source": [
    "model.predict_proba(predict_input)"
   ]
  },
  {
   "cell_type": "code",
   "execution_count": 17,
   "metadata": {},
   "outputs": [
    {
     "ename": "AttributeError",
     "evalue": "'numpy.ndarray' object has no attribute 'head'",
     "output_type": "error",
     "traceback": [
      "\u001b[0;31m---------------------------------------------------------------------------\u001b[0m",
      "\u001b[0;31mAttributeError\u001b[0m                            Traceback (most recent call last)",
      "\u001b[0;32m<ipython-input-17-8e915d4e39b4>\u001b[0m in \u001b[0;36m<module>\u001b[0;34m\u001b[0m\n\u001b[0;32m----> 1\u001b[0;31m \u001b[0mop\u001b[0m\u001b[0;34m.\u001b[0m\u001b[0mhead\u001b[0m\u001b[0;34m(\u001b[0m\u001b[0;34m)\u001b[0m\u001b[0;34m\u001b[0m\u001b[0m\n\u001b[0m",
      "\u001b[0;31mAttributeError\u001b[0m: 'numpy.ndarray' object has no attribute 'head'"
     ]
    }
   ],
   "source": []
  },
  {
   "cell_type": "code",
   "execution_count": null,
   "metadata": {},
   "outputs": [],
   "source": []
  }
 ],
 "metadata": {
  "kernelspec": {
   "display_name": "Python 3",
   "language": "python",
   "name": "python3"
  },
  "language_info": {
   "codemirror_mode": {
    "name": "ipython",
    "version": 3
   },
   "file_extension": ".py",
   "mimetype": "text/x-python",
   "name": "python",
   "nbconvert_exporter": "python",
   "pygments_lexer": "ipython3",
   "version": "3.5.2"
  }
 },
 "nbformat": 4,
 "nbformat_minor": 2
}
